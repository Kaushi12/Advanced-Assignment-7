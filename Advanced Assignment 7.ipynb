{
 "cells": [
  {
   "cell_type": "code",
   "execution_count": 6,
   "id": "6e8270b7",
   "metadata": {},
   "outputs": [],
   "source": [
    "def count_layers(input_list):\n",
    "    l=len(input_list)\n",
    "    layers=l//2+1\n",
    "    return layers"
   ]
  },
  {
   "cell_type": "code",
   "execution_count": 9,
   "id": "8b1fb0fd",
   "metadata": {},
   "outputs": [
    {
     "data": {
      "text/plain": [
       "5"
      ]
     },
     "execution_count": 9,
     "metadata": {},
     "output_type": "execute_result"
    }
   ],
   "source": [
    "count_layers([\n",
    "\"AAAAAAAAAAA\",\n",
    "\"AABBBBBBBAA\",\n",
    "\"AABCCCCCBAA\",\n",
    "\"AABCAAACBAA\",\n",
    "\"AABCADACBAA\",\n",
    "\"AABCAAACBAA\",\n",
    "\"AABCCCCCBAA\",\n",
    "\"AABBBBBBBAA\",\n",
    "\"AAAAAAAAAAA\"\n",
    "])"
   ]
  },
  {
   "cell_type": "code",
   "execution_count": 14,
   "id": "54b5b094",
   "metadata": {},
   "outputs": [],
   "source": [
    "def unique_styles(l1):\n",
    "    alls=[]\n",
    "    for i in l1:\n",
    "        new=i.split(',')\n",
    "        for j in new:\n",
    "            alls.append(j)\n",
    "    s=set(alls)\n",
    "    return len(s)\n",
    "            \n",
    "        "
   ]
  },
  {
   "cell_type": "code",
   "execution_count": 15,
   "id": "94468590",
   "metadata": {},
   "outputs": [
    {
     "data": {
      "text/plain": [
       "9"
      ]
     },
     "execution_count": 15,
     "metadata": {},
     "output_type": "execute_result"
    }
   ],
   "source": [
    "unique_styles([\n",
    "\"Dub,Dancehall\",\n",
    "\"Industrial,Heavy Metal\",\n",
    "\"Techno,Dubstep\",\n",
    "\"Synth-pop,Euro-Disco\",\n",
    "\"Industrial,Techno,Minimal\"\n",
    "])"
   ]
  },
  {
   "cell_type": "code",
   "execution_count": 1,
   "id": "ce2a2ae4",
   "metadata": {},
   "outputs": [],
   "source": [
    "def is_prime(primes,num):\n",
    "    low=0\n",
    "    high=len(primes)-1\n",
    "    while low <= high:\n",
    "        mid = low + (high - low)//2\n",
    "\n",
    "        if primes[mid] == num:\n",
    "            target= mid\n",
    "\n",
    "        elif primes[mid] < num:\n",
    "            low = mid + 1\n",
    "\n",
    "        else:\n",
    "            high = mid - 1\n",
    "    target = -1\n",
    "    if target != -1:\n",
    "        for i in range(2,num):\n",
    "            if num%i==0:\n",
    "                break\n",
    "            print(\"no\")\n",
    "        else:\n",
    "            print(\"yes\")\n",
    "    elif target==-1:\n",
    "        print(\"no\")\n",
    "\n",
    "\n",
    "    \n",
    "    "
   ]
  },
  {
   "cell_type": "code",
   "execution_count": 2,
   "id": "5de37863",
   "metadata": {},
   "outputs": [],
   "source": [
    "primes = [2, 3, 5, 7, 11, 13, 17, 19, 23, 29, 31, 37, 41, 43, 47, 53, 59, 61, 67,\n",
    "71, 73, 79, 83, 89, 97]\n"
   ]
  },
  {
   "cell_type": "code",
   "execution_count": null,
   "id": "8dd156dd",
   "metadata": {},
   "outputs": [],
   "source": [
    "is_prime(primes,67)"
   ]
  },
  {
   "cell_type": "code",
   "execution_count": 1,
   "id": "9d67cecf",
   "metadata": {},
   "outputs": [],
   "source": [
    "def power_ranger(n,a,b):\n",
    "    count=0\n",
    "    for i in range(b):\n",
    "        if i**n in range(a,b):\n",
    "            count+=1\n",
    "    return count\n"
   ]
  },
  {
   "cell_type": "code",
   "execution_count": 3,
   "id": "2b88fab1",
   "metadata": {},
   "outputs": [
    {
     "data": {
      "text/plain": [
       "1"
      ]
     },
     "execution_count": 3,
     "metadata": {},
     "output_type": "execute_result"
    }
   ],
   "source": [
    "power_ranger(10,1,5)"
   ]
  },
  {
   "cell_type": "code",
   "execution_count": 10,
   "id": "652bd797",
   "metadata": {},
   "outputs": [
    {
     "name": "stdout",
     "output_type": "stream",
     "text": [
      "9\n",
      "77882\n"
     ]
    }
   ],
   "source": [
    "n=str(977882)\n",
    "s=''+max(n)\n",
    "m=max(n)\n",
    "n=n.replace(m,'',1)\n",
    "print(s)\n",
    "print(n)\n"
   ]
  },
  {
   "cell_type": "code",
   "execution_count": 21,
   "id": "56a558cc",
   "metadata": {},
   "outputs": [],
   "source": [
    "def rearranged_difference(number):\n",
    "    n=str(number)\n",
    "    s=''\n",
    "    m=str(number)\n",
    "    s1=''\n",
    "    while len(n)!=0:\n",
    "        s+=''+max(n)\n",
    "        n=n.replace(max(n),'',1)\n",
    "    while len(m)!=0:\n",
    "        s1+=''+min(m)\n",
    "        m=m.replace(min(m),'',1)\n",
    "    return (int(s)-int(s1))\n",
    "    "
   ]
  },
  {
   "cell_type": "code",
   "execution_count": 23,
   "id": "cd599a8e",
   "metadata": {},
   "outputs": [
    {
     "data": {
      "text/plain": [
       "760833"
      ]
     },
     "execution_count": 23,
     "metadata": {},
     "output_type": "execute_result"
    }
   ],
   "source": [
    "rearranged_difference(972882)"
   ]
  },
  {
   "cell_type": "code",
   "execution_count": null,
   "id": "56b63518",
   "metadata": {},
   "outputs": [],
   "source": []
  }
 ],
 "metadata": {
  "kernelspec": {
   "display_name": "Python 3",
   "language": "python",
   "name": "python3"
  },
  "language_info": {
   "codemirror_mode": {
    "name": "ipython",
    "version": 3
   },
   "file_extension": ".py",
   "mimetype": "text/x-python",
   "name": "python",
   "nbconvert_exporter": "python",
   "pygments_lexer": "ipython3",
   "version": "3.8.8"
  }
 },
 "nbformat": 4,
 "nbformat_minor": 5
}
